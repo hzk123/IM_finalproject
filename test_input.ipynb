{
 "cells": [
  {
   "cell_type": "code",
   "execution_count": 1,
   "metadata": {},
   "outputs": [],
   "source": [
    "import cv2\n",
    "import numpy as np\n",
    "import os\n"
   ]
  },
  {
   "cell_type": "code",
   "execution_count": 2,
   "metadata": {},
   "outputs": [],
   "source": [
    "def add(train_filepath , label_filepath):\n",
    "    train = []\n",
    "    label = []\n",
    "    train_list =  os.listdir(train_filepath)\n",
    "    label_list = os.listdir(label_filepath)\n",
    "    \n",
    "    train_list.sort()\n",
    "    label_list.sort()\n",
    "    \n",
    "    \n",
    "    for i in range(len(train_list)):\n",
    "        \n",
    "        if (train_list[i] != label_list[i]):\n",
    "            print(i)\n",
    "        img_train = cv2.cvtColor(cv2.imread(train_filepath + '/' + train_list[i]) , cv2.COLOR_BGR2GRAY)\n",
    "        img_label =  cv2.cvtColor(cv2.imread(label_filepath + '/' + label_list[i]) , cv2.COLOR_BGR2GRAY);\n",
    "        train.append( np.resize(img_train , (512,512,1)) );\n",
    "        label.append( np.resize(img_label ,(512,512,1)) );\n",
    "    return train , label\n"
   ]
  },
  {
   "cell_type": "code",
   "execution_count": 3,
   "metadata": {},
   "outputs": [],
   "source": [
    "train = [];\n",
    "label = [];\n",
    "\n",
    "train_input = [ '/home/hzk/Desktop/IM_finalproject/Data/data01/image',\n",
    "               '/home/hzk/Desktop/IM_finalproject/Data/data02/image',\n",
    "               '/home/hzk/Desktop/IM_finalproject/Data/data03/image',\n",
    "               '/home/hzk/Desktop/IM_finalproject/Data/data04/image']\n",
    "label_input = ['/home/hzk/Desktop/IM_finalproject/Data/data01/label',\n",
    "              '/home/hzk/Desktop/IM_finalproject/Data/data02/label',\n",
    "              '/home/hzk/Desktop/IM_finalproject/Data/data03/label',\n",
    "              '/home/hzk/Desktop/IM_finalproject/Data/data04/label']\n",
    "\n",
    "for i in range(4):\n",
    "    t , l = add(train_input[i] , label_input[i])\n",
    "    train.append(t)\n",
    "    label.append(l)"
   ]
  },
  {
   "cell_type": "code",
   "execution_count": 4,
   "metadata": {},
   "outputs": [
    {
     "data": {
      "text/plain": [
       "\"\\nimg_train = train[0][0]\\nimg_label = label[0][0]\\ncv2.imshow('train',img_train)\\ncv2.imshow('label',img_label)\\ncv2.waitKey()\\ncv2.destroyAllWindows()\\n\""
      ]
     },
     "execution_count": 4,
     "metadata": {},
     "output_type": "execute_result"
    }
   ],
   "source": [
    "'''\n",
    "img_train = train[0][0]\n",
    "img_label = label[0][0]\n",
    "cv2.imshow('train',img_train)\n",
    "cv2.imshow('label',img_label)\n",
    "cv2.waitKey()\n",
    "cv2.destroyAllWindows()\n",
    "'''"
   ]
  },
  {
   "cell_type": "code",
   "execution_count": 6,
   "metadata": {},
   "outputs": [
    {
     "name": "stderr",
     "output_type": "stream",
     "text": [
      "Using TensorFlow backend.\n"
     ]
    }
   ],
   "source": [
    "from util import unet"
   ]
  },
  {
   "cell_type": "code",
   "execution_count": 7,
   "metadata": {},
   "outputs": [
    {
     "name": "stderr",
     "output_type": "stream",
     "text": [
      "/home/hzk/Desktop/IM_finalproject/util.py:53: UserWarning: Update your `Model` call to the Keras 2 API: `Model(inputs=Tensor(\"in..., outputs=Tensor(\"co...)`\n",
      "  model = Model(input = inputs, output = conv10)\n"
     ]
    }
   ],
   "source": [
    "\n",
    "from keras import Input\n",
    "\n",
    "\n",
    "net = unet()"
   ]
  },
  {
   "cell_type": "code",
   "execution_count": 8,
   "metadata": {},
   "outputs": [],
   "source": [
    "label = np.array(label[0])\n",
    "train = np.array(train[0])"
   ]
  },
  {
   "cell_type": "code",
   "execution_count": null,
   "metadata": {},
   "outputs": [
    {
     "name": "stdout",
     "output_type": "stream",
     "text": [
      "Epoch 1/5\n"
     ]
    }
   ],
   "source": [
    "net.fit( train, label , batch_size = 10 , epochs = 5 )"
   ]
  },
  {
   "cell_type": "code",
   "execution_count": null,
   "metadata": {},
   "outputs": [],
   "source": []
  }
 ],
 "metadata": {
  "kernelspec": {
   "display_name": "Python 3",
   "language": "python",
   "name": "python3"
  },
  "language_info": {
   "codemirror_mode": {
    "name": "ipython",
    "version": 3
   },
   "file_extension": ".py",
   "mimetype": "text/x-python",
   "name": "python",
   "nbconvert_exporter": "python",
   "pygments_lexer": "ipython3",
   "version": "3.6.7"
  }
 },
 "nbformat": 4,
 "nbformat_minor": 2
}
